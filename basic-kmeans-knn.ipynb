{
 "cells": [
  {
   "cell_type": "code",
   "execution_count": 1,
   "metadata": {},
   "outputs": [],
   "source": [
    "import pandas as pd\n",
    "import numpy as np\n",
    "import collections\n",
    "from copy import deepcopy"
   ]
  },
  {
   "cell_type": "code",
   "execution_count": 9,
   "metadata": {},
   "outputs": [],
   "source": [
    "file_name = 'C:/Users/onkar/Downloads/kmeans/ionosphere.data.csv'\n",
    "df_data = pd.read_csv(file_name, header=None)\n",
    "df_data.dropna(inplace=True)\n",
    "df_datakm = df_data.iloc[:, :33]"
   ]
  },
  {
   "cell_type": "code",
   "execution_count": 23,
   "metadata": {},
   "outputs": [],
   "source": [
    "class K_Means:\n",
    "    def __init__(self, k=3, tol=0.01, max_iter=30):\n",
    "        self.k = k\n",
    "        self.tol = tol\n",
    "        self.max_iter = max_iter\n",
    "        \n",
    "    def dist(self, a, b, ax=1):\n",
    "        return np.linalg.norm(a-b, axis=ax)\n",
    "\n",
    "    def fit(self,data):\n",
    "        \n",
    "        self.centroids = np.array(data.iloc[:self.k,:])\n",
    "\n",
    "        for iter_ in range(self.max_iter):\n",
    "            self.clusters = collections.defaultdict(list)\n",
    "\n",
    "            for point in range(len(data)):\n",
    "                distances = self.dist(data.iloc[point].values, self.centroids)\n",
    "                self.clusters[np.argmin(distances)].append(point)\n",
    "            \n",
    "            c_old = deepcopy(self.centroids)\n",
    "            for i in range(self.k):\n",
    "                points = [data.iloc[j,:] for j in self.clusters[i]]\n",
    "                self.centroids[i] = np.mean(points, axis=0)\n",
    "                \n",
    "            error = sum(self.dist(self.centroids, c_old))\n",
    "            if error < self.tol:\n",
    "                print('error less than threshold. Error is: %f' %(error))\n",
    "                print(iter_)\n",
    "                return self.clusters\n",
    "        return self.clusters\n"
   ]
  },
  {
   "cell_type": "code",
   "execution_count": 24,
   "metadata": {},
   "outputs": [
    {
     "name": "stdout",
     "output_type": "stream",
     "text": [
      "error less than threshold. Error is: 0.000000\n",
      "17\n"
     ]
    }
   ],
   "source": [
    "obj = K_Means()\n",
    "res = obj.fit(df_datakm)"
   ]
  },
  {
   "cell_type": "code",
   "execution_count": 20,
   "metadata": {},
   "outputs": [
    {
     "data": {
      "text/plain": [
       "(78, 122, 151)"
      ]
     },
     "execution_count": 20,
     "metadata": {},
     "output_type": "execute_result"
    }
   ],
   "source": [
    "len(res[0]),len(res[1]), len(res[2])"
   ]
  },
  {
   "cell_type": "code",
   "execution_count": 11,
   "metadata": {},
   "outputs": [],
   "source": [
    "df_sub = df_data.iloc[:100]"
   ]
  },
  {
   "cell_type": "code",
   "execution_count": 81,
   "metadata": {},
   "outputs": [],
   "source": [
    "import operator\n",
    "class kneighbours:\n",
    "    def __init__(self, k=5):\n",
    "        self.k = k\n",
    "    \n",
    "    def dist(self, a, b, ax=1):\n",
    "        return np.linalg.norm(a-b, axis=ax).tolist()\n",
    "        \n",
    "    def fit(self, train_x, train_y, test):        \n",
    "        distances = collections.defaultdict(list)\n",
    "        predictions = collections.defaultdict(float)\n",
    "        \n",
    "        for i in range(len(test)):\n",
    "            distances[i] = list(zip(train_x.index.tolist(), self.dist(test.iloc[i].values, train_x.values)))\n",
    "            distances[i].sort(key = lambda x:x[1])\n",
    "\n",
    "            y_val = []\n",
    "            for kpoint in range(self.k):\n",
    "                y_val.append(train_y.iloc[distances[i][kpoint][0]])\n",
    "\n",
    "            predictions[i] = max(set(y_val), key=y_val.count)\n",
    "            \n",
    "        return predictions\n",
    "\n",
    "    \n"
   ]
  },
  {
   "cell_type": "code",
   "execution_count": 82,
   "metadata": {},
   "outputs": [
    {
     "data": {
      "text/plain": [
       "defaultdict(float,\n",
       "            {0: 1, 1: 0, 2: 1, 3: 0, 4: 0, 5: 1, 6: 1, 7: 1, 8: 0, 9: 1})"
      ]
     },
     "execution_count": 82,
     "metadata": {},
     "output_type": "execute_result"
    }
   ],
   "source": [
    "model = kneighbours()\n",
    "\n",
    "model.fit(df_datakm.iloc[:100], df_data.iloc[:100, 34], df_datakm.iloc[110:120])"
   ]
  },
  {
   "cell_type": "code",
   "execution_count": null,
   "metadata": {},
   "outputs": [],
   "source": []
  }
 ],
 "metadata": {
  "kernelspec": {
   "display_name": "Python 3",
   "language": "python",
   "name": "python3"
  },
  "language_info": {
   "codemirror_mode": {
    "name": "ipython",
    "version": 3
   },
   "file_extension": ".py",
   "mimetype": "text/x-python",
   "name": "python",
   "nbconvert_exporter": "python",
   "pygments_lexer": "ipython3",
   "version": "3.6.2"
  }
 },
 "nbformat": 4,
 "nbformat_minor": 2
}
